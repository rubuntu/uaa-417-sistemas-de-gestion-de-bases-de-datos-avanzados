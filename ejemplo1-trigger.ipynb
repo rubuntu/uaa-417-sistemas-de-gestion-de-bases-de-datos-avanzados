{
 "cells": [
  {
   "cell_type": "raw",
   "id": "fd7d001e-c6e1-49b8-9f34-c395a2b941f0",
   "metadata": {},
   "source": [
    "---\n",
    "title: \"Ejemplo 1: ClassicModels\"    \n",
    "format:    \n",
    "  pdf:    \n",
    "    documentclass: article    \n",
    "    keep-tex: true    \n",
    "    geometry: a4paper,landscape,margin=1cm \n",
    "---"
   ]
  },
  {
   "cell_type": "markdown",
   "id": "c014d402",
   "metadata": {
    "lines_to_next_cell": 0
   },
   "source": [
    "## Ejemplo 1: ClassicModels \n",
    "Trigger en PostgreSQL que mantenga actualizada la columna `quantityInStock` de la tabla `products` cuando se realizan operaciones `INSERT`, `UPDATE` o `DELETE` en la tabla `orderDetails`. Además, se asegura de impedir la actualización si `quantityInStock` resulta menor a 0.\n",
    "\n",
    "### Código del Trigger y la Función"
   ]
  },
  {
   "cell_type": "markdown",
   "id": "a71ee9e6-8e50-4148-bcd8-1e88e1b7e456",
   "metadata": {},
   "source": [
    "```sql\n",
    "-- Crear función para manejar el trigger\n",
    "CREATE OR REPLACE FUNCTION update_quantity_in_stock()\n",
    "RETURNS TRIGGER AS $$\n",
    "BEGIN\n",
    "    -- Manejar caso de INSERT\n",
    "    IF TG_OP = 'INSERT' THEN\n",
    "        -- Verificar que haya suficiente inventario antes de insertar\n",
    "        IF (SELECT quantityInStock FROM products WHERE productCode = NEW.productCode) < NEW.quantityOrdered THEN\n",
    "            RAISE EXCEPTION 'No se puede procesar el pedido. Inventario insuficiente.';\n",
    "        END IF;\n",
    "        -- Reducir inventario\n",
    "        UPDATE products\n",
    "        SET quantityInStock = quantityInStock - NEW.quantityOrdered\n",
    "        WHERE productCode = NEW.productCode;\n",
    "    END IF;\n",
    "\n",
    "    -- Manejar caso de DELETE\n",
    "    IF TG_OP = 'DELETE' THEN\n",
    "        -- Restaurar inventario\n",
    "        UPDATE products\n",
    "        SET quantityInStock = quantityInStock + OLD.quantityOrdered\n",
    "        WHERE productCode = OLD.productCode;\n",
    "    END IF;\n",
    "\n",
    "    -- Manejar caso de UPDATE\n",
    "    IF TG_OP = 'UPDATE' THEN\n",
    "        -- Restaurar inventario con el pedido anterior\n",
    "        UPDATE products\n",
    "        SET quantityInStock = quantityInStock + OLD.quantityOrdered\n",
    "        WHERE productCode = OLD.productCode;\n",
    "\n",
    "        -- Verificar que haya suficiente inventario antes de actualizar\n",
    "        IF (SELECT quantityInStock FROM products WHERE productCode = NEW.productCode) < NEW.quantityOrdered THEN\n",
    "            RAISE EXCEPTION 'No se puede actualizar el pedido. Inventario insuficiente.';\n",
    "        END IF;\n",
    "\n",
    "        -- Reducir inventario con el nuevo pedido\n",
    "        UPDATE products\n",
    "        SET quantityInStock = quantityInStock - NEW.quantityOrdered\n",
    "        WHERE productCode = NEW.productCode;\n",
    "    END IF;\n",
    "\n",
    "    RETURN NULL; -- Los triggers AFTER no requieren devolver nada\n",
    "END;\n",
    "$$ LANGUAGE plpgsql;\n",
    "\n",
    "-- Crear el trigger en la tabla orderDetails\n",
    "CREATE TRIGGER trg_update_quantity_in_stock\n",
    "AFTER INSERT OR UPDATE OR DELETE ON orderDetails\n",
    "FOR EACH ROW\n",
    "EXECUTE FUNCTION update_quantity_in_stock();\n",
    "```"
   ]
  },
  {
   "cell_type": "markdown",
   "id": "22940aa7",
   "metadata": {},
   "source": [
    "### Explicación del Código\n",
    "1. **Función `update_quantity_in_stock`:**\n",
    "   - Es una función que maneja los eventos `INSERT`, `UPDATE` y `DELETE`.\n",
    "   - Se verifica el estado del inventario antes de reducirlo en los casos de `INSERT` y `UPDATE`.\n",
    "   - El inventario se restaura cuando se elimina un pedido (`DELETE`) o se actualiza un pedido existente (`UPDATE`).\n",
    "   - Se arroja un error (`RAISE EXCEPTION`) si la operación haría que el inventario sea menor que 0.\n",
    "\n",
    "2. **Trigger `trg_update_quantity_in_stock`:**\n",
    "   - Se activa después de cada operación `INSERT`, `UPDATE` o `DELETE` en la tabla `orderDetails`.\n",
    "   - Invoca la función `update_quantity_in_stock`.\n",
    "\n",
    "### Ejemplo de Uso\n",
    "1. **Insertar un pedido:**\n",
    "   ```sql\n",
    "   INSERT INTO orderDetails (orderNumber, productCode, quantityOrdered, priceEach, orderLineNumber)\n",
    "   VALUES (10103, 'S10_1678', 20, 48.81, 1);\n",
    "   ```\n",
    "\n",
    "2. **Actualizar un pedido:**\n",
    "   ```sql\n",
    "   UPDATE orderDetails\n",
    "   SET quantityOrdered = 50\n",
    "   WHERE orderNumber = 10103 AND productCode = 'S10_1678';\n",
    "   ```\n",
    "\n",
    "3. **Eliminar un pedido:**\n",
    "   ```sql\n",
    "   DELETE FROM orderDetails\n",
    "   WHERE orderNumber = 10103 AND productCode = 'S10_1678';\n",
    "   ```\n",
    "\n",
    "Este trigger garantiza la integridad de los datos y evita situaciones de inventario negativo. "
   ]
  },
  {
   "cell_type": "code",
   "execution_count": null,
   "id": "976e5856-a2da-4f21-a49c-2da9401d9d83",
   "metadata": {},
   "outputs": [],
   "source": []
  }
 ],
 "metadata": {
  "jupytext": {
   "cell_metadata_filter": "-all",
   "main_language": "sql",
   "notebook_metadata_filter": "-all"
  },
  "kernelspec": {
   "display_name": "Python 3 (ipykernel)",
   "language": "python",
   "name": "python3"
  },
  "language_info": {
   "codemirror_mode": {
    "name": "ipython",
    "version": 3
   },
   "file_extension": ".py",
   "mimetype": "text/x-python",
   "name": "python",
   "nbconvert_exporter": "python",
   "pygments_lexer": "ipython3",
   "version": "3.12.5"
  }
 },
 "nbformat": 4,
 "nbformat_minor": 5
}
