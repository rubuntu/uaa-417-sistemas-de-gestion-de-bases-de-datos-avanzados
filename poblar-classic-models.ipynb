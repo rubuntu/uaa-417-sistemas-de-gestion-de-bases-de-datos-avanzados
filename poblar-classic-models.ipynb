{
 "cells": [
  {
   "cell_type": "raw",
   "id": "45d7b259-b6f6-4782-bf50-13d12cdf81e7",
   "metadata": {},
   "source": [
    "---\n",
    "title: \"Poblar ClassicModels\"    \n",
    "format:    \n",
    "  pdf:    \n",
    "    documentclass: article    \n",
    "    keep-tex: true    \n",
    "    geometry: a4paper,landscape,margin=1cm \n",
    "---\n"
   ]
  },
  {
   "cell_type": "markdown",
   "id": "617adbba",
   "metadata": {},
   "source": [
    "### Script para poblar la base de datos **ClassicModels** con datos iniciales en PostgreSQL:"
   ]
  },
  {
   "cell_type": "markdown",
   "id": "f6a6d032-b4ce-4436-9b51-a3210dbfecae",
   "metadata": {},
   "source": [
    "```sql\n",
    "-- Datos para offices\n",
    "INSERT INTO offices (officeCode, city, phone, addressLine1, addressLine2, state, country, postalCode, territory)\n",
    "VALUES\n",
    "    ('1', 'San Francisco', '+1 650 219 4782', '100 Market Street', NULL, 'CA', 'USA', '94080', 'NA'),\n",
    "    ('2', 'Boston', '+1 215 837 0825', '1550 Court Place', NULL, 'MA', 'USA', '02110', 'NA'),\n",
    "    ('3', 'NYC', '+1 212 555 3000', '523 East 53rd Street', NULL, 'NY', 'USA', '10022', 'NA'),\n",
    "    ('4', 'Paris', '+33 14 723 8000', '43 Rue Jouffroy', NULL, NULL, 'France', '75017', 'EMEA');\n",
    "\n",
    "-- Datos para employees\n",
    "INSERT INTO employees (employeeNumber, lastName, firstName, extension, email, officeCode, reportsTo, jobTitle)\n",
    "VALUES\n",
    "    (1002, 'Murphy', 'Diane', 'x5800', 'dmurphy@classicmodels.com', '1', NULL, 'President'),\n",
    "    (1056, 'Patterson', 'Mary', 'x4611', 'mpatterson@classicmodels.com', '2', 1002, 'VP Sales'),\n",
    "    (1076, 'Firrelli', 'Jeff', 'x9273', 'jfirrelli@classicmodels.com', '3', 1056, 'Sales Manager'),\n",
    "    (1088, 'Bondur', 'Gerard', 'x5408', 'gbondur@classicmodels.com', '4', 1076, 'Sales Manager');\n",
    "\n",
    "-- Datos para customers\n",
    "INSERT INTO customers (customerNumber, customerName, contactLastName, contactFirstName, phone, addressLine1, addressLine2, \n",
    "    city, state, postalCode, country, salesRepEmployeeNumber, creditLimit)\n",
    "VALUES\n",
    "    (103, 'Atelier Graphique', 'Schmitt', 'Carine', '+33 14 723 3000', '54, Rue Royale', NULL, \n",
    "    'Nantes', NULL, '44000', 'France', 1088, 21000.00),\n",
    "    (112, 'Signal Gift Stores', 'King', 'Jean', '+1 702 555 1838', '8489 Strong St.', NULL, \n",
    "    'Las Vegas', 'NV', '83030', 'USA', 1056, 71800.00),\n",
    "    (114, 'Australian Collectors Co.', 'Ferguson', 'Peter', '+61 2 5554 1800', '636 St Kilda Road', NULL, \n",
    "    'Melbourne', 'Victoria', '3004', 'Australia', 1076, 117300.00);\n",
    "\n",
    "-- Datos para productLines\n",
    "INSERT INTO productLines (productLine, textDescription, htmlDescription, image)\n",
    "VALUES\n",
    "    ('Classic Cars', 'Detailed replicas of classic cars', NULL, NULL),\n",
    "    ('Motorcycles', 'Motorcycle models with extreme attention to detail', NULL, NULL),\n",
    "    ('Planes', 'Scaled replicas of vintage and modern planes', NULL, NULL);\n",
    "\n",
    "-- Datos para products\n",
    "INSERT INTO products (productCode, productName, productLine, productScale, productVendor,\n",
    "    productDescription, quantityInStock, buyPrice, MSRP)\n",
    "VALUES\n",
    "    ('S10_1678', '1969 Harley Davidson Ultimate Chopper', 'Motorcycles', '1:10', 'Min Lin Diecast', \n",
    "    'This replica features working kickstand, front suspension...', 7933, 48.81, 95.70),\n",
    "    ('S10_1949', '1952 Alpine Renault 1300', 'Classic Cars', '1:10', 'Classic Metal Creations', \n",
    "    'Turnable front wheels...', 7305, 98.58, 214.30),\n",
    "    ('S10_2016', '1962 LanciaA Delta 16V', 'Classic Cars', '1:10', 'Classic Metal Creations', \n",
    "    'High detail replica of the classic Italian car...', 6703, 103.42, 229.15);\n",
    "\n",
    "-- Datos para orders\n",
    "INSERT INTO orders (orderNumber, orderDate, requiredDate, shippedDate, status, comments, customerNumber)\n",
    "VALUES\n",
    "    (10100, '2024-11-01', '2024-11-05', '2024-11-03', 'Shipped', 'Delivered to reception.', 103),\n",
    "    (10101, '2024-11-02', '2024-11-06', NULL, 'In Process', NULL, 112),\n",
    "    (10102, '2024-11-03', '2024-11-07', NULL, 'Cancelled', 'Customer requested cancellation.', 114);\n",
    "\n",
    "-- Datos para orderDetails\n",
    "INSERT INTO orderDetails (orderNumber, productCode, quantityOrdered, priceEach, orderLineNumber)\n",
    "VALUES\n",
    "    (10100, 'S10_1678', 30, 48.81, 1),\n",
    "    (10100, 'S10_1949', 50, 98.58, 2),\n",
    "    (10101, 'S10_2016', 25, 103.42, 1);\n",
    "\n",
    "-- Datos para payments\n",
    "INSERT INTO payments (customerNumber, checkNumber, paymentDate, amount)\n",
    "VALUES\n",
    "    (103, 'HQ336338', '2024-10-30', 21000.00),\n",
    "    (112, 'TT998482', '2024-10-28', 71800.00),\n",
    "    (114, 'PP102938', '2024-10-27', 50000.00);\n",
    "```"
   ]
  },
  {
   "cell_type": "markdown",
   "id": "f38f29be",
   "metadata": {},
   "source": [
    "### Notas:\n",
    "1. **Datos iniciales representativos:** Se poblaron las tablas con ejemplos realistas para los negocios de ClassicModels.\n",
    "2. **Fechas:** Las fechas son recientes y coherentes.\n",
    "3. **Jerarquías:** Las referencias a claves foráneas como empleados y productos están correctamente asignadas.\n",
    "4. **Flexibilidad:** Puedes agregar más datos o ajustar los existentes según tus necesidades.\n",
    "\n"
   ]
  },
  {
   "cell_type": "code",
   "execution_count": null,
   "id": "ed2ce7bd-997a-4242-9c20-03a8ff643425",
   "metadata": {},
   "outputs": [],
   "source": []
  }
 ],
 "metadata": {
  "jupytext": {
   "cell_metadata_filter": "-all",
   "main_language": "sql",
   "notebook_metadata_filter": "-all"
  },
  "kernelspec": {
   "display_name": "Python 3 (ipykernel)",
   "language": "python",
   "name": "python3"
  },
  "language_info": {
   "codemirror_mode": {
    "name": "ipython",
    "version": 3
   },
   "file_extension": ".py",
   "mimetype": "text/x-python",
   "name": "python",
   "nbconvert_exporter": "python",
   "pygments_lexer": "ipython3",
   "version": "3.12.5"
  }
 },
 "nbformat": 4,
 "nbformat_minor": 5
}
